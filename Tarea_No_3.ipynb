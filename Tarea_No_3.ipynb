{
 "cells": [
  {
   "cell_type": "markdown",
   "metadata": {},
   "source": [
    "# Erick Sigüenza \n",
    "Tarea #3 Python\n",
    "\n",
    "9813742"
   ]
  },
  {
   "cell_type": "markdown",
   "metadata": {},
   "source": [
    "# Que es una función de Python\n",
    "\n",
    "También llamadas subrutinas, procedimientos o métodos en otros lenguajes. \n",
    "\n",
    "Es una buena práctica de la programación estructurada y sirve para crear procedimientos con varias sentencias de código para representar diferentes funcionalidades; puede o no recibir parámetros al momento de ser invocada y, después de procesar los datos, puede o no devolver valores como respuesta.\n",
    "\n",
    "Tiene dos ventajas importantes, **se puede partir en pedazos más pequeños** para ser utilizados de forma independiente ya eso se le llama modularización y además si el código utilizado está pensado para más de un uso estas **funciones pueden ser reutilizables** es decir pueden ser llamadas desde diferentes lugares de la aplicación se le deberían enviar diferentes parámetros.\n",
    "\n"
   ]
  },
  {
   "cell_type": "markdown",
   "metadata": {},
   "source": [
    "# La sintaxis es la siguiente\n",
    "\n",
    "def Nombre (Parámetros): \n",
    "Procedimiento\n",
    "return [valor(es) asignados(s)]\n",
    "\n",
    "**Dónde:**\n",
    "\n",
    "**Def:** Palabra reservada para definir la función\n",
    "\n",
    "**Nombre:** nombre de la función.\n",
    "\n",
    "**Parámetros:** Lista de parámetros que puede recibir la función.\n",
    "\n",
    "**Procedimiento:** Conjunto de sentencias o líneas de código que sirven para procesar y transformar los datos\n",
    "\n",
    "**Valores asignados:** Variables a las que les fue asignado un valor específico durante el procesamiento y requieren ser devueltos a la aplicación \n",
    "\n",
    "**Return:** Palabra reservada utilizada para retornar valores asignados después de procesados \n"
   ]
  },
  {
   "cell_type": "markdown",
   "metadata": {},
   "source": [
    "##### Importante: \n",
    "1.\tLa indentación de bloques es muy importante dentro de una función de Python, porque de ella depende el orden de interpretación, sintaxis corrida y resultados obtenidos\n",
    "\n",
    "2.\tEl texto de documentación de la función -Cadena de texto de documentación- también es importante porque permite por cada línea de código ir documentando la funcionalidad por compleja que sea\n"
   ]
  },
  {
   "cell_type": "markdown",
   "metadata": {},
   "source": [
    "# Parámetros posicionales\n",
    "\n",
    "Se llaman así cuando se envían parámetros a una función y estos se reciben por el orden en que fueron definidos enviando un asterisco\n"
   ]
  },
  {
   "cell_type": "code",
   "execution_count": null,
   "metadata": {},
   "outputs": [],
   "source": [
    "def enviar_orden(*argumentos):\n",
    "    for i in argumentos:\n",
    "        print i\n",
    "\n",
    "    enviar_orden(3,\"tarea\",[1,2,3,4,5])"
   ]
  },
  {
   "cell_type": "markdown",
   "metadata": {},
   "source": [
    "# Parámetros nombrados\n",
    "\n",
    "Se llaman así cuando, aunque se envíen parámetros y estos se reciban por el orden en que fueron definidos; ese orden se ignore y se asigne en tiempo de corrida el valor que tiene cada parámetro a partir de su nombre o bien, se debe crear un diccionario dinámico de argumentos utilizando dos asteriscos\n"
   ]
  },
  {
   "cell_type": "code",
   "execution_count": null,
   "metadata": {},
   "outputs": [],
   "source": [
    "def enviar_nombre(**argumentos):\n",
    "    print argumentos\n",
    "\n",
    "enviar_nombre(n=1, c=\"erick\", l=[1,2,3,4,5])"
   ]
  },
  {
   "cell_type": "markdown",
   "metadata": {},
   "source": [
    "# Retorno de múltiples valores\n",
    "\n",
    "Es posible devolver parámetros múltiples separados por comas y estos, ser tratados en conjunto como una tupla inmutable (no puede ser actualizada), además que se pueden reasignar a distintas variables\n"
   ]
  },
  {
   "cell_type": "code",
   "execution_count": null,
   "metadata": {},
   "outputs": [],
   "source": [
    "def valores_multiples():\n",
    "    return \"erick\", 110, [1,2,3,4,5]\n",
    "\n",
    "valores_multiples()\n"
   ]
  },
  {
   "cell_type": "markdown",
   "metadata": {},
   "source": [
    "# Funciones como objetos y como parámetros de otras funciones\n",
    "\n",
    "Se pueden establecer funciones que procesen un parámetro y los valore que retornen son los parámetros de otras funciones\n"
   ]
  },
  {
   "cell_type": "code",
   "execution_count": null,
   "metadata": {},
   "outputs": [],
   "source": [
    "def cuadrado(a):\n",
    "    return a ** 2\n",
    "\n",
    "def raiz_cuadrada(a):\n",
    "    return a ** 0.5\n",
    "\n",
    "def obtener(func, *args):\n",
    "    for i in args:\n",
    "        print(func(i))\n",
    "\n",
    "obtener(cuadrado, 2, 3, 5)\n",
    "\n",
    "obtener(raiz_cuadrada, 9, 25, 64, 49)\n",
    "\n"
   ]
  },
  {
   "cell_type": "markdown",
   "metadata": {},
   "source": [
    "# Funciones anónimas o lambda\n",
    "\n",
    "\n",
    "Se hacen llamando a lambda para decirle que vamos a crear una función anónima. Luego pasamos los parámetros separados por comas y por último se realiza el proceso.\n"
   ]
  },
  {
   "cell_type": "code",
   "execution_count": null,
   "metadata": {},
   "outputs": [],
   "source": [
    "#Sin lambda: \n",
    "\n",
    "def mult(a, b):\n",
    "     return a * b\n",
    "     if nombre== \"principal\":\n",
    "\n",
    "print(mult(2, 4))\n",
    "\n",
    "#Con lambda:\n",
    "if nombre== \"principal\":\n",
    "    Producto = lambda a, b: a * b\n",
    "\n",
    "print(multiplica(2, 4))\n",
    "\n"
   ]
  },
  {
   "cell_type": "markdown",
   "metadata": {},
   "source": [
    "# Fuentes\n",
    "\n",
    "https://entrenamiento-python-basico.readthedocs.io/es/latest/leccion5/funciones.html\n",
    "\n",
    "https://cosasdedevs.com/posts/como-se-usan-las-funciones-anonimas-o-lambda-en-python/\n",
    "\n",
    "https://es.stackoverflow.com/questions/139223/se-puede-pasar-una-funci%C3%B3n-como-par%C3%A1metro-en-python\n",
    "\n",
    "\n"
   ]
  },
  {
   "cell_type": "code",
   "execution_count": null,
   "metadata": {},
   "outputs": [],
   "source": []
  }
 ],
 "metadata": {
  "kernelspec": {
   "display_name": "Python 3",
   "language": "python",
   "name": "python3"
  },
  "language_info": {
   "codemirror_mode": {
    "name": "ipython",
    "version": 3
   },
   "file_extension": ".py",
   "mimetype": "text/x-python",
   "name": "python",
   "nbconvert_exporter": "python",
   "pygments_lexer": "ipython3",
   "version": "3.7.6"
  }
 },
 "nbformat": 4,
 "nbformat_minor": 4
}
